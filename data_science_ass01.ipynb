{
 "cells": [
  {
   "cell_type": "markdown",
   "id": "bb7c64a7-add1-4e43-869e-a49d38349645",
   "metadata": {},
   "source": [
    "Question 1. How do you comment code in Python? What are the different types of comments"
   ]
  },
  {
   "cell_type": "markdown",
   "id": "307cbb09-eb51-406d-bb09-30a017bde2cb",
   "metadata": {},
   "source": [
    "Answer In Python you can comments to your code to provide explanations of your code.\n",
    "\n",
    "       Comments line are ignored by the Python interpreter and don't affect the execution of program.\n",
    "\n",
    "       There are two main type of comment in Python.\n",
    "\n",
    "       1) Single line comment \n",
    "       2) mulyiple line comment\n",
    "  \n",
    "       Single line comment :- \n",
    "            These type of comment are use to comment single line in a program.\n",
    "            It's is denoted by (#).\n",
    "            \n",
    "            for example :- \n",
    "                # This is a single line comment.\n",
    "                print (\"Hello, world\") # This is our first Python program. \n",
    "                \n",
    "        Multiple line comment :-\n",
    "             These type of comment are use to comment multiple line in a program.\n",
    "             It can be denoted by (`'''` or `\"\"\"`)\n",
    "             \n",
    "             for example :- \n",
    "                 ''' \n",
    "                 This is a multiple line comment.\n",
    "                 It is denoted by (''').\n",
    "                 '''\n",
    "                 print(\"Exaple of multiple line comments which is denoted by ('''). \")\n",
    "                 \n",
    "                 \"\"\"\n",
    "                 This is a multiple line comment.\n",
    "                 It is denoted by (\"\"\").\n",
    "                 \"\"\"\n",
    "                 print(\"Exaple of multiple line comments which is denoted by (\"\"\"). \")\n",
    "                 \n",
    "                 CODE ARE GIVEN BELOW. "
   ]
  },
  {
   "cell_type": "markdown",
   "id": "205c9f96-72c0-4d55-abd4-c1e9c68435cf",
   "metadata": {
    "tags": []
   },
   "source": [
    "SINGLE LINE COMMENTS. "
   ]
  },
  {
   "cell_type": "code",
   "execution_count": 1,
   "id": "e880eb54-2408-41b4-8127-3695669eb28b",
   "metadata": {},
   "outputs": [
    {
     "name": "stdout",
     "output_type": "stream",
     "text": [
      "Hello, world\n"
     ]
    }
   ],
   "source": [
    "# This is a single line comment.\n",
    "print (\"Hello, world\") # This is our first Python program."
   ]
  },
  {
   "cell_type": "markdown",
   "id": "5a8ec033-9ae2-493b-9504-6ec36e09194e",
   "metadata": {},
   "source": [
    "MULTIPLE LINE COMMENTS."
   ]
  },
  {
   "cell_type": "code",
   "execution_count": 16,
   "id": "7d3e2d85-f39c-4638-bff2-cf137690a1cd",
   "metadata": {},
   "outputs": [
    {
     "name": "stdout",
     "output_type": "stream",
     "text": [
      "Exaple of multiple line comments which is denoted by ('''). \n",
      "Exaple of multiple line comments which is denoted by double quotes. \n"
     ]
    }
   ],
   "source": [
    "''' \n",
    "This is a multiple line comment.\n",
    "Its is denoted by single quotes.\n",
    "'''\n",
    "print(\"Exaple of multiple line comments which is denoted by ('''). \")\n",
    "         \n",
    "    \n",
    "    \n",
    "\"\"\"\n",
    "This is a multiple line comment.\n",
    "It is denoted by double quotes .\n",
    "\"\"\"\n",
    "print(\"Exaple of multiple line comments which is denoted by double quotes. \")"
   ]
  },
  {
   "cell_type": "markdown",
   "id": "9307b2be-344f-45b4-89a3-7e1e0d200ae1",
   "metadata": {},
   "source": [
    "\n",
    "Question3. What are variables in Python? How do you declare and assign values to variables?"
   ]
  },
  {
   "cell_type": "markdown",
   "id": "79791317-22dc-4716-bf78-23788dae3581",
   "metadata": {},
   "source": [
    "\n",
    "Answer:- In Python, variables are used to store and manage data. A variable is like a container that holds a value, which can be of different data types such as numbers, strings, lists, etc. Variables allow            you to work with and manipulate data within your programs.\n",
    "\n",
    "         # Variable declaration and assignment.\n",
    "\n",
    "         varable_name = value  (Syntax) \n",
    "\n",
    "         Examples\n",
    "\n",
    "         name = \"Pranjal Jain\"      # String variable\n",
    "         age = 21                   # Integer variable \n",
    "         height = 5.6               # Float variable\n",
    "         is_student = True          # Boolean variable\n",
    "         \n",
    "         print(f\"Name {name}, age {age}, height {height} and {is_student}\")\n",
    "         \n",
    "         \n",
    "         "
   ]
  },
  {
   "cell_type": "code",
   "execution_count": 2,
   "id": "c9f36619-d933-4846-8827-1d1739a67a7b",
   "metadata": {},
   "outputs": [
    {
     "name": "stdout",
     "output_type": "stream",
     "text": [
      "Name Pranjal Jain, age 21, height 5.6 and True\n"
     ]
    }
   ],
   "source": [
    "# Variable declaration and assignment.\n",
    "\n",
    "# varable_name = value  (Syntax) \n",
    "\n",
    "#  Examples\n",
    "\n",
    "name = \"Pranjal Jain\"      # String variable\n",
    "age = 21                   # Integer variable \n",
    "height = 5.6               # Float variable\n",
    "is_student = True          # Boolean variable\n",
    "\n",
    "print(f\"Name {name}, age {age}, height {height} and {is_student}\")"
   ]
  },
  {
   "cell_type": "markdown",
   "id": "a6f28e60-758c-4f7e-a83d-12c5a0319160",
   "metadata": {},
   "source": [
    "Question3. How do you convert one data type to another in Python?"
   ]
  },
  {
   "cell_type": "markdown",
   "id": "5a54a5ae-553c-407f-919d-d32dd705fc8d",
   "metadata": {},
   "source": [
    "\n",
    "Answewr  In Python, you can convert one data type to another using variousbuilt-in functions and methods. This process is known as type casting or type conversion. Here are some common            methods to convert between different data types."
   ]
  },
  {
   "cell_type": "markdown",
   "id": "c73e3586-6299-44d2-88a8-d97ab56aa18e",
   "metadata": {},
   "source": [
    "int():- convert a value to an integer data type."
   ]
  },
  {
   "cell_type": "code",
   "execution_count": 9,
   "id": "240c827c-3f5a-4465-8404-c6d9f33ca52b",
   "metadata": {},
   "outputs": [
    {
     "name": "stdout",
     "output_type": "stream",
     "text": [
      "53\n"
     ]
    }
   ],
   "source": [
    "float_num = 53.3695\n",
    "int_num = int(float_num)     # Converts the float to an integer (53)\n",
    "print(int_num)"
   ]
  },
  {
   "cell_type": "markdown",
   "id": "28737f6c-bfe8-4d0d-b601-a79c1ba95514",
   "metadata": {},
   "source": [
    "float(): Converts a value to a floating-point data type."
   ]
  },
  {
   "cell_type": "code",
   "execution_count": 10,
   "id": "be779ec0-c48e-4f0e-a4b3-929c03f34822",
   "metadata": {},
   "outputs": [
    {
     "name": "stdout",
     "output_type": "stream",
     "text": [
      "10.0\n"
     ]
    }
   ],
   "source": [
    "int_num = 10\n",
    "float_num = float(int_num)  # Converts the integer to a float (10.0)\n",
    "print(float_num)"
   ]
  },
  {
   "cell_type": "markdown",
   "id": "7e8a14e9-a5fa-41df-91d6-a2137228f887",
   "metadata": {},
   "source": [
    "str(): Converts a value to a string data type"
   ]
  },
  {
   "cell_type": "code",
   "execution_count": 11,
   "id": "d3c146a6-7357-4aa0-9fde-4f4a6a76cbb4",
   "metadata": {},
   "outputs": [
    {
     "name": "stdout",
     "output_type": "stream",
     "text": [
      "569\n"
     ]
    }
   ],
   "source": [
    "number = 569\n",
    "text = str(number)  # Converts the number to a string (\"569\")\n",
    "print(text)"
   ]
  },
  {
   "cell_type": "markdown",
   "id": "e962db99-0473-4397-8015-9be54b884bb9",
   "metadata": {},
   "source": [
    "list(), tuple(), set(): Convert between different sequence data types"
   ]
  },
  {
   "cell_type": "code",
   "execution_count": 14,
   "id": "040441af-8918-4704-a351-b630c33b8205",
   "metadata": {},
   "outputs": [
    {
     "name": "stdout",
     "output_type": "stream",
     "text": [
      "[1, 2, 3]\n",
      "(1, 2, 3)\n",
      "{1, 2, 3}\n"
     ]
    }
   ],
   "source": [
    "my_list = [1, 2, 3]\n",
    "my_tuple = tuple(my_list)  # Converts a list to a tuple \n",
    "my_set = set(my_list)      # Converts a list to a set\n",
    "\n",
    "print(my_list)\n",
    "print(my_tuple)\n",
    "print(my_set)"
   ]
  },
  {
   "cell_type": "markdown",
   "id": "ea8cd26b-2d68-415a-83c6-53596d670bfa",
   "metadata": {},
   "source": [
    "dict(): Converts a sequence of key-value pairs to a dictionary"
   ]
  },
  {
   "cell_type": "code",
   "execution_count": 8,
   "id": "20b91279-82f9-4b03-8697-848d0bc55c05",
   "metadata": {},
   "outputs": [
    {
     "name": "stdout",
     "output_type": "stream",
     "text": [
      "{'a': 1, 'b': 2}\n"
     ]
    }
   ],
   "source": [
    "key_value_pairs = [(\"a\", 1), (\"b\", 2)]\n",
    "my_dict = dict(key_value_pairs)  # Converts the list to a dictionary\n",
    "\n",
    "print(my_dict)"
   ]
  },
  {
   "cell_type": "markdown",
   "id": "d5ca4a42-6eeb-4f5b-a562-3919703b9d44",
   "metadata": {},
   "source": [
    "Qqestion 4. How do you write and execute a Python script from the command line?"
   ]
  },
  {
   "cell_type": "markdown",
   "id": "1afded5b-bb92-41d0-9541-0105d04de6fe",
   "metadata": {},
   "source": [
    "Answer:- 1. Write the Python Script:\n",
    "                Open a text editor such as Notepad and write your Python code. Save the file with a .py extension. \n",
    "            \n",
    "                     For example:- create a file named myscript.py and add some code like:\n",
    "\n",
    "                         print(\"Hello, from my Python script!\")\n",
    "\n",
    "\n",
    "        2. Open the Command Line/Terminal:\n",
    "                 You can open the Command Prompt (search for \"cmd\" in the Start menu).\n",
    "\n",
    "        3.Navigate to the Script's Directory:\n",
    "                 Use the cd command to navigate to the directory where you saved your Python script. \n",
    "                 \n",
    "                    For example:- If your script is in the Documents folder, you would use\n",
    "\n",
    "                        cd Documents\n",
    "\n",
    "\n",
    "        4. Execute the Python Script:\n",
    "                 Once you're in the correct directory, you can execute the Python script using the python command followed by the script's filename:\n",
    "\n",
    "\n",
    "           python myscript.py\n",
    "           If you have both Python 2 and Python 3 installed, you might need to use python3 instead of python\n",
    "\n",
    "           python3 myscript.py\n",
    "\n",
    "           After executing the command, you should see the output of your script in the terminal\n",
    "\n",
    "           Hello, from my Python script!\n"
   ]
  },
  {
   "cell_type": "markdown",
   "id": "ccf399bb-f048-441a-aee2-adbb9e80fc38",
   "metadata": {},
   "source": [
    "Question 5. Given a list my_list = [1, 2, 3, 4, 5], write the code to slice the list and obtain the sub-list [2, 3]."
   ]
  },
  {
   "cell_type": "code",
   "execution_count": 3,
   "id": "85b65289-4b09-45a6-861e-5077692c5e5b",
   "metadata": {},
   "outputs": [
    {
     "name": "stdout",
     "output_type": "stream",
     "text": [
      "[2, 3]\n"
     ]
    }
   ],
   "source": [
    "my_list = [1, 2, 3, 4, 5]\n",
    "sub_list = my_list[1:3]\n",
    "print(sub_list)"
   ]
  },
  {
   "cell_type": "markdown",
   "id": "b54a30be-c995-443e-ba78-11eba67b2ab6",
   "metadata": {},
   "source": [
    "Question 6. What is a complex number in mathematics, and how is it represented in Python?"
   ]
  },
  {
   "cell_type": "markdown",
   "id": "3b3e2181-f261-4771-92c6-c889e3d3ba2a",
   "metadata": {},
   "source": [
    "Answer- In Python, complex numbers are represented using the built-in complex data type. The imaginary unit \"i\" is represented by j in Python."
   ]
  },
  {
   "cell_type": "markdown",
   "id": "8c8b870e-1e40-47cf-93e5-1750857aa030",
   "metadata": {},
   "source": [
    "Question 7. What is the correct way to declare a variable named age and assign the value 25 to it?"
   ]
  },
  {
   "cell_type": "markdown",
   "id": "388f95fa-2241-4472-b709-a6ba30ac048d",
   "metadata": {},
   "source": [
    "Answer:- The correct way to declare a variable named `age` and assign the value `25` to it in Python is as follows:"
   ]
  },
  {
   "cell_type": "code",
   "execution_count": 6,
   "id": "8d33e81d-60f7-41e2-9df9-6e78bceb1d65",
   "metadata": {},
   "outputs": [
    {
     "name": "stdout",
     "output_type": "stream",
     "text": [
      "25\n"
     ]
    }
   ],
   "source": [
    "age = 25\n",
    "print(age)"
   ]
  },
  {
   "cell_type": "markdown",
   "id": "9299879c-4fc7-450e-a1ff-28a0e482a8cb",
   "metadata": {},
   "source": [
    "Question 8. Declare a variable named price and assign the value 9.99 to it. What data type does this variable belong to?"
   ]
  },
  {
   "cell_type": "markdown",
   "id": "69c42425-024f-4161-8c41-75af40371638",
   "metadata": {},
   "source": [
    "Answer:- To declare a variable named `price` and assign the value `9.99` to it in Python, you can use the following line of code.\n",
    "\n",
    "         price = 9.99\n",
    "\n",
    "The variable `price` belongs to the data type `float`. "
   ]
  },
  {
   "cell_type": "markdown",
   "id": "ded661db-9ebf-4ee1-953a-7d1e1fddf54b",
   "metadata": {},
   "source": [
    "Question 9. Create a variable named name and assign your full name to it as a string. How would you print the value of this variable?"
   ]
  },
  {
   "cell_type": "code",
   "execution_count": 9,
   "id": "4258daaf-b0f5-45c2-b2ba-b02f7ff83615",
   "metadata": {},
   "outputs": [
    {
     "name": "stdout",
     "output_type": "stream",
     "text": [
      "Pranjal Jain\n"
     ]
    }
   ],
   "source": [
    "name = \"Pranjal Jain\"\n",
    "print(name)\n"
   ]
  },
  {
   "cell_type": "markdown",
   "id": "99c8044a-3179-462f-9374-bd3785c6cfe9",
   "metadata": {},
   "source": [
    "OR"
   ]
  },
  {
   "cell_type": "code",
   "execution_count": 10,
   "id": "9c490306-83d6-4b9d-9a0e-6a3083fa04a9",
   "metadata": {},
   "outputs": [
    {
     "name": "stdin",
     "output_type": "stream",
     "text": [
      "Enter your name Pranjal jain\n"
     ]
    },
    {
     "name": "stdout",
     "output_type": "stream",
     "text": [
      "Pranjal jain\n"
     ]
    }
   ],
   "source": [
    "name = input(\"Enter your name\")\n",
    "print(name)"
   ]
  },
  {
   "cell_type": "markdown",
   "id": "de2ed023-9c04-4140-993e-15ad601d0af4",
   "metadata": {},
   "source": [
    "Question 10. Given the string \"Hello, World!\", extract the substring \"World\""
   ]
  },
  {
   "cell_type": "code",
   "execution_count": 12,
   "id": "e78b012c-1de0-4828-bda9-e17c80c34c22",
   "metadata": {},
   "outputs": [
    {
     "name": "stdout",
     "output_type": "stream",
     "text": [
      "World\n"
     ]
    }
   ],
   "source": [
    "original_string = \"Hello, World!\"\n",
    "substring = original_string[7:12]\n",
    "print(substring)"
   ]
  },
  {
   "cell_type": "markdown",
   "id": "1d59229c-bb4d-4e51-8e35-9bd7315ba067",
   "metadata": {},
   "source": [
    "Question 11. Create a variable named \"is_student\" and assign it a boolean value indicating whether you are\n",
    "currently a student or not."
   ]
  },
  {
   "cell_type": "code",
   "execution_count": 15,
   "id": "b7a57616-250e-477c-8976-abad21ca1924",
   "metadata": {},
   "outputs": [],
   "source": [
    "is_student = True  # Set this to True if you are a student, or False if you are not."
   ]
  },
  {
   "cell_type": "code",
   "execution_count": null,
   "id": "59a4d429-5ab5-4d31-9685-18c1b0a69344",
   "metadata": {},
   "outputs": [],
   "source": []
  }
 ],
 "metadata": {
  "kernelspec": {
   "display_name": "Python 3 (ipykernel)",
   "language": "python",
   "name": "python3"
  },
  "language_info": {
   "codemirror_mode": {
    "name": "ipython",
    "version": 3
   },
   "file_extension": ".py",
   "mimetype": "text/x-python",
   "name": "python",
   "nbconvert_exporter": "python",
   "pygments_lexer": "ipython3",
   "version": "3.10.8"
  }
 },
 "nbformat": 4,
 "nbformat_minor": 5
}
